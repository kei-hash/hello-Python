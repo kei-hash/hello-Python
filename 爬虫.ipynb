{
 "cells": [
  {
   "cell_type": "code",
   "execution_count": 1,
   "metadata": {},
   "outputs": [
    {
     "ename": "ModuleNotFoundError",
     "evalue": "No module named 'bs4'",
     "output_type": "error",
     "traceback": [
      "\u001b[0;31m---------------------------------------------------------------------------\u001b[0m",
      "\u001b[0;31mModuleNotFoundError\u001b[0m                       Traceback (most recent call last)",
      "\u001b[0;32m<ipython-input-1-b3332faaf349>\u001b[0m in \u001b[0;36m<module>\u001b[0;34m\u001b[0m\n\u001b[1;32m      1\u001b[0m \u001b[0;32mimport\u001b[0m \u001b[0mrequests\u001b[0m\u001b[0;34m\u001b[0m\u001b[0;34m\u001b[0m\u001b[0m\n\u001b[1;32m      2\u001b[0m \u001b[0;32mimport\u001b[0m \u001b[0mre\u001b[0m\u001b[0;34m\u001b[0m\u001b[0;34m\u001b[0m\u001b[0m\n\u001b[0;32m----> 3\u001b[0;31m \u001b[0;32mfrom\u001b[0m \u001b[0mbs4\u001b[0m \u001b[0;32mimport\u001b[0m \u001b[0mBeautifulSoup\u001b[0m\u001b[0;34m\u001b[0m\u001b[0;34m\u001b[0m\u001b[0m\n\u001b[0m\u001b[1;32m      4\u001b[0m \u001b[0;34m\u001b[0m\u001b[0m\n\u001b[1;32m      5\u001b[0m \u001b[0mfp\u001b[0m\u001b[0;34m=\u001b[0m\u001b[0mopen\u001b[0m\u001b[0;34m(\u001b[0m\u001b[0;34mr\"d:/123.txt\"\u001b[0m\u001b[0;34m,\u001b[0m\u001b[0;34m'w'\u001b[0m\u001b[0;34m,\u001b[0m\u001b[0mencoding\u001b[0m\u001b[0;34m=\u001b[0m\u001b[0;34m'utf-8'\u001b[0m\u001b[0;34m)\u001b[0m\u001b[0;34m\u001b[0m\u001b[0;34m\u001b[0m\u001b[0m\n",
      "\u001b[0;31mModuleNotFoundError\u001b[0m: No module named 'bs4'"
     ]
    }
   ],
   "source": [
    "import requests\n",
    "import re\n",
    "from bs4 import BeautifulSoup\n",
    "\n",
    "fp=open(r\"d:/123.txt\",'w',encoding='utf-8')\n",
    "fp.close()\n",
    "sum=0\n",
    "\n",
    "for i in range(1,6):\n",
    "    u='http://search.dangdang.com/?key=python&ddsale=1&city=132&page_index='+str(i)+'#J_tab'\n",
    "    r=requests.get(url=u)\n",
    "    soup=BeautifulSoup(r.text,\"html.parser\")\n",
    "    k=soup.find_all('li',class_=re.compile(r'line\\d+'))\n",
    "    for n in k:\n",
    "        book_name=n.find('a',attrs={\"name\":\"itemlist-title\"}).attrs['title'] if (n.find('a',attrs={\"name\":\"itemlist-title\"})) else ''\n",
    "        book_au=n.find('a',attrs={\"name\":\"itemlist-author\"}).attrs['title'] if (n.find('a',attrs={\"name\":\"itemlist-author\"})) else ''\n",
    "        book_price=n.find('span',class_='search_now_price').text if(n.find('span',class_='search_now_price')) else ''\n",
    "        book_old_price=n.find('span',class_='search_pre_price').text if(n.find('span',class_='search_pre_price')) else ''\n",
    "        book_url=n.find('a',attrs={\"name\":\"itemlist-title\"}).attrs['href'] if (n.find('a',attrs={\"name\":\"itemlist-title\"})) else ''\n",
    "        book_detail=n.find('p',class_='detail').text if(n.find('p',class_='detail')) else ''\n",
    "        print('书名：'+book_name.encode('gbk','ignore').decode('gbk'))\n",
    "        print('作者：'+book_au.encode('gbk','ignore').decode('gbk'))\n",
    "        print('现价：'+book_price.encode('gbk','ignore').decode('gbk')+'元 , '+'原价：'+book_old_price.encode('gbk','ignore').decode('gbk'))\n",
    "        print('书籍介绍：'+book_detail.encode('gbk','ignore').decode('gbk'))\n",
    "        print('链接：'+book_url.encode('gbk','ignore').decode('gbk'))\n",
    "        print('\\n')\n",
    "        sum=sum+1\n",
    "        with open(r\"d:/123.txt\",'a+',encoding='utf-8') as fp:\n",
    "            fp.write('书名：'+book_name+'\\n')\n",
    "            fp.write('作者：'+book_au+'\\n')\n",
    "            fp.write('现价：'+book_price+'元 , '+'原价：'+book_old_price+'\\n')\n",
    "            fp.write('书籍介绍：'+book_detail+'\\n')\n",
    "            fp.write('链接：'+book_url+'\\n'+'\\n')\n",
    "            fp.write('\\n')\n",
    "print(\"\\n共计：\",sum,\"本\")\n",
    "with open(r\"d:/123.txt\",'a+',encoding='utf-8') as fp:\n",
    "    fp.write(\"\\n共计：\"+str(sum)+\"本\")"
   ]
  },
  {
   "cell_type": "code",
   "execution_count": null,
   "metadata": {},
   "outputs": [],
   "source": [
    "l=[1,2,3,4,5,6]\n",
    "for i in l:\n",
    "    if i.isal\n",
    "    print(i)"
   ]
  },
  {
   "cell_type": "code",
   "execution_count": null,
   "metadata": {},
   "outputs": [],
   "source": []
  }
 ],
 "metadata": {
  "kernelspec": {
   "display_name": "Python 3",
   "language": "python",
   "name": "python3"
  },
  "language_info": {
   "codemirror_mode": {
    "name": "ipython",
    "version": 3
   },
   "file_extension": ".py",
   "mimetype": "text/x-python",
   "name": "python",
   "nbconvert_exporter": "python",
   "pygments_lexer": "ipython3",
   "version": "3.7.1"
  }
 },
 "nbformat": 4,
 "nbformat_minor": 2
}
